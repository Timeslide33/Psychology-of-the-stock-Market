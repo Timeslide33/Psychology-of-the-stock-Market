{
 "cells": [
  
  {
   "cell_type": "markdown",
   "metadata": {},
   "source": [
    "**作者：李笑来**\n",
    "\n",
    "特别感谢**霍炬**（[@virushuo](https://github.com/virushuo)）、**洪强宁**（[@hongqn](https://github.com/hongqn)) 两位良师诤友在此书写作过程中给予我的巨大帮助！\n",
    "\n",
    "```python\n",
    "# pseudo-code of selfteaching in Python\n",
    "\n",
    "def teach_yourself(anything):\n",
    "    while not create():\n",
    "        learn()\n",
    "        practice()\n",
    "    return teach_yourself(another)\n",
    "\n",
    "teach_yourself(coding)\n",
    "```"
   ]
  },
  {
   "cell_type": "markdown",
   "metadata": {},
   "source": [
    "## ContenT\n",
    "\n",
    "> - [Preface](1.preface.ipynb)\n",
    "> - [01.The Speculative Cycle](2.The Speculative Cycle.ipynb)\n",

    "> - [2.Inverted Reasoning and Its Consequences.ipynb](2.Inverted Reasoning and Its Consequences.ipynb)\n",
    "> - [3.""they""](3.""they"".ipynb)\n",
    "> - [T-appendix.git-introduction（**Git 简介**）](T-appendix.git-introduction.ipynb)\n",
    "> - [T-appendix.jupyter-installation-and-setup（**Jupyterlab 的安装与配置**）](T-appendix.jupyter-installation-and-setup.ipynb)\n",
    "> - [T-appendix.symbols（**这些符号都代表什么？**）](T-appendix.symbols.ipynb)"
   ]
  },
  {
   "cell_type": "markdown",
   "metadata": {},
   "source": [
    "本书的版权协议为 [CC-BY-NC-ND license](https://creativecommons.org/licenses/by-nc-nd/3.0/deed.zh)。\n",
    "\n",
    "![CC-BY-NC-ND](images/CC-BY-NC-ND.png)\n",
    "\n",
    "-----\n",
    "**脚注**\n",
    "\n",
    "<a name='fn1'>[1]</a>：['Themselves' or 'themself'? -- Oxford Dictionary](https://en.oxforddictionaries.com/usage/themselves-or-themself)\n",
    "\n",
    "<a href='#fn1b'><small>↑Back to Content↑</small></a>"
   ]
  }
 ],
 "metadata": {
  "kernelspec": {
   "display_name": "Python 3",
   "language": "python",
   "name": "python3"
  },
  "language_info": {
   "codemirror_mode": {
    "name": "ipython",
    "version": 3
   },
   "file_extension": ".py",
   "mimetype": "text/x-python",
   "name": "python",
   "nbconvert_exporter": "python",
   "pygments_lexer": "ipython3",
   "version": "3.7.1"
  },
  "toc-autonumbering": false
 },
 "nbformat": 4,
 "nbformat_minor": 2
}
