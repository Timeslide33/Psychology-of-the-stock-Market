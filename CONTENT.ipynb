{
 "cells": [
  {
   "cell_type": "markdown",
   "metadata": {},
   "source": [
    "# 自学是门手艺\n",
    "\n",
    "> One has no future if one couldn't teach themself<a href='#fn1' name='fn1b'><sup>[1]</sup></a>.\n"
   ]
  },
  {
   "cell_type": "markdown",
   "metadata": {},
   "source": [
    "**作者：李笑来**\n",
    "\n",
    "特别感谢**霍炬**（[@virushuo](https://github.com/virushuo)）、**洪强宁**（[@hongqn](https://github.com/hongqn)) 两位良师诤友在此书写作过程中给予我的巨大帮助！\n",
    "\n",
    "```python\n",
    "# pseudo-code of selfteaching in Python\n",
    "\n",
    "def teach_yourself(anything):\n",
    "    while not create():\n",
    "        learn()\n",
    "        practice()\n",
    "    return teach_yourself(another)\n",
    "\n",
    "teach_yourself(coding)\n",
    "```"
   ]
  },
  {
   "cell_type": "markdown",
   "metadata": {},
   "source": [
    "## 目录\n",
    "\n",
    "> - [01.preface（**前言**）](1.The Speculative Cycle.ipynb)\n",
   
    "> - [Part.2.D.3-lambda（**化名与匿名**）](Part.2.D.3-lambda.ipynb)\n",
    "> - [Part.2.D.4-recursion（**递归函数**）](Part.2.D.4-recursion.ipynb)\n",
    "> - [Part.2.D.5-docstrings（**函数的文档**）](Part.2.D.5-docstrings.ipynb)\n",
    "> - [Part.2.D.6-modules（**保存到文件的函数**）](Part.2.D.6-modules.ipynb)\n",
    "> - [Part.2.D.7-tdd（**测试驱动的开发**）](Part.2.D.7-tdd.ipynb)\n",
    "> - [Part.2.D.8-main（**可执行的 Python 文件**）](Part.2.D.8-main.ipynb)\n",
    "> - [Part.2.E.deliberate-thinking（**刻意思考**）](Part.2.E.deliberate-thinking.ipynb)\n",
    "> - [Part.3.A.conquering-difficulties（**战胜难点**）](Part.3.A.conquering-difficulties.ipynb)\n",
    "> - [Part.3.B.1.classes-1（**类 —— 面向对象编程**）](Part.3.B.1.classes-1.ipynb)\n",
    "> - [Part.3.B.2.classes-2（**类 —— Python 的实现**）](Part.3.B.2.classes-2.ipynb)\n",
    "> - [Part.3.B.3.decorator-iterator-generator（**函数工具**）](Part.3.B.3.decorator-iterator-generator.ipynb)\n",
    "> - [Part.3.B.4.regex（**正则表达式**）](Part.3.B.4.regex.ipynb)\n",
    "> - [Part.3.B.5.bnf-ebnf-pebnf（**BNF 以及 EBNF**）](Part.3.B.5.bnf-ebnf-pebnf.ipynb)\n",
    "> - [Part.3.C.breaking-good-and-bad（**拆解**）](Part.3.C.breaking-good-and-bad.ipynb)\n",
    "> - [Part.3.D.indispensable-illusion（**刚需幻觉**）](Part.3.D.indispensable-illusion.ipynb)\n",
    "> - [Part.3.E.to-be-thorough（**全面 —— 自学的境界**）](Part.3.E.to-be-thorough.ipynb)\n",
    "> - [Part.3.F.social-selfteaching（**自学者的社交**）](Part.3.F.social-selfteaching.ipynb)\n",
    "> - [Part.3.G.the-golden-age-and-google（**这是自学者的黄金时代**）](Part.3.G.the-golden-age-and-google.ipynb)\n",
    "> - [Part.3.H.prevent-focus-drifting（**避免注意力漂移**）](Part.3.H.prevent-focus-drifting.ipynb)\n",
    "> - [Q.good-communiation（**如何成为优秀沟通者**）](Q.good-communiation.ipynb)\n",
    "> - [R.finale（**自学者的终点**）](R.finale.ipynb)\n",
    "> - [S.whats-next（**下一步干什么？**）](S.whats-next.ipynb)\n",
    "> - [T-appendix.editor.vscode（**Visual Studio Code 的安装与配置**）](T-appendix.editor.vscode.ipynb)\n",
    "> - [T-appendix.git-introduction（**Git 简介**）](T-appendix.git-introduction.ipynb)\n",
    "> - [T-appendix.jupyter-installation-and-setup（**Jupyterlab 的安装与配置**）](T-appendix.jupyter-installation-and-setup.ipynb)\n",
    "> - [T-appendix.symbols（**这些符号都代表什么？**）](T-appendix.symbols.ipynb)"
   ]
  },
  {
   "cell_type": "markdown",
   "metadata": {},
   "source": [
    "本书的版权协议为 [CC-BY-NC-ND license](https://creativecommons.org/licenses/by-nc-nd/3.0/deed.zh)。\n",
    "\n",
    "![CC-BY-NC-ND](images/CC-BY-NC-ND.png)\n",
    "\n",
    "-----\n",
    "**脚注**\n",
    "\n",
    "<a name='fn1'>[1]</a>：['Themselves' or 'themself'? -- Oxford Dictionary](https://en.oxforddictionaries.com/usage/themselves-or-themself)\n",
    "\n",
    "<a href='#fn1b'><small>↑Back to Content↑</small></a>"
   ]
  }
 ],
 "metadata": {
  "kernelspec": {
   "display_name": "Python 3",
   "language": "python",
   "name": "python3"
  },
  "language_info": {
   "codemirror_mode": {
    "name": "ipython",
    "version": 3
   },
   "file_extension": ".py",
   "mimetype": "text/x-python",
   "name": "python",
   "nbconvert_exporter": "python",
   "pygments_lexer": "ipython3",
   "version": "3.7.1"
  },
  "toc-autonumbering": false
 },
 "nbformat": 4,
 "nbformat_minor": 2
}
